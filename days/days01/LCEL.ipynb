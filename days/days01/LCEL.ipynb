{
 "cells": [
  {
   "cell_type": "markdown",
   "id": "544056d8",
   "metadata": {},
   "source": [
    "# Chat Model"
   ]
  },
  {
   "cell_type": "code",
   "execution_count": 1,
   "id": "637ed71e",
   "metadata": {},
   "outputs": [],
   "source": [
    "# from dotenv import load_dotenv\n",
    "# import os\n",
    "\n",
    "# load_dotenv()\n",
    "\n",
    "# OPENAI_API_KEY=os.getenv(\"OPENAI_API_KEY\")"
   ]
  },
  {
   "cell_type": "code",
   "execution_count": 2,
   "id": "66b1b3f4",
   "metadata": {},
   "outputs": [
    {
     "name": "stdout",
     "output_type": "stream",
     "text": [
      "content='There are 8 recognized planets in our solar system: Mercury, Venus, Earth, Mars, Jupiter, Saturn, Uranus, and Neptune.' additional_kwargs={'refusal': None} response_metadata={'token_usage': {'completion_tokens': 29, 'prompt_tokens': 13, 'total_tokens': 42, 'completion_tokens_details': {'accepted_prediction_tokens': 0, 'audio_tokens': 0, 'reasoning_tokens': 0, 'rejected_prediction_tokens': 0}, 'prompt_tokens_details': {'audio_tokens': 0, 'cached_tokens': 0}}, 'model_name': 'gpt-3.5-turbo-0125', 'system_fingerprint': None, 'id': 'chatcmpl-CJeLJfwmvIKb5ZM8vweS0SkK94ruh', 'service_tier': 'default', 'finish_reason': 'stop', 'logprobs': None} id='run--9ceb1400-94aa-40b4-a59f-69c25edf7a0d-0' usage_metadata={'input_tokens': 13, 'output_tokens': 29, 'total_tokens': 42, 'input_token_details': {'audio': 0, 'cache_read': 0}, 'output_token_details': {'audio': 0, 'reasoning': 0}}\n"
     ]
    }
   ],
   "source": [
    "from langchain_openai import ChatOpenAI, OpenAI\n",
    "\n",
    "chat = ChatOpenAI(\n",
    "    model=\"gpt-3.5-turbo\" # 사용할 모델 명시\n",
    ")\n",
    "\n",
    "print(chat.invoke(\"How many planets are there?\"))"
   ]
  },
  {
   "cell_type": "markdown",
   "id": "e87c1e2b",
   "metadata": {},
   "source": [
    "# Message Schema"
   ]
  },
  {
   "cell_type": "code",
   "execution_count": 3,
   "id": "d312b9fc",
   "metadata": {},
   "outputs": [],
   "source": [
    "from langchain_openai import ChatOpenAI\n",
    "\n",
    "chat = ChatOpenAI(\n",
    "    temperature=0.1\n",
    ")"
   ]
  },
  {
   "cell_type": "code",
   "execution_count": 4,
   "id": "bd5db146",
   "metadata": {},
   "outputs": [
    {
     "name": "stderr",
     "output_type": "stream",
     "text": [
      "/var/folders/mh/rl6y80hd7tq9c91b7bx47m640000gn/T/ipykernel_24775/3847011944.py:15: LangChainDeprecationWarning: The method `BaseChatModel.predict_messages` was deprecated in langchain-core 0.1.7 and will be removed in 1.0. Use :meth:`~invoke` instead.\n",
      "  chat.predict_messages(messages=messages)\n"
     ]
    },
    {
     "data": {
      "text/plain": [
       "AIMessage(content='그것은 좀 복잡한 질문이에요. {country_a}와 {country_b} 사이의 거리는 지구상의 위치에 따라 다를 수 있어요. 제 이름은 {name}이에요. 다른 질문이 있나요?', additional_kwargs={'refusal': None}, response_metadata={'token_usage': {'completion_tokens': 70, 'prompt_tokens': 61, 'total_tokens': 131, 'completion_tokens_details': {'accepted_prediction_tokens': 0, 'audio_tokens': 0, 'reasoning_tokens': 0, 'rejected_prediction_tokens': 0}, 'prompt_tokens_details': {'audio_tokens': 0, 'cached_tokens': 0}}, 'model_name': 'gpt-3.5-turbo-0125', 'system_fingerprint': None, 'id': 'chatcmpl-CJeLKYTOpzYvv0boDwmtdCdHBOhOv', 'service_tier': 'default', 'finish_reason': 'stop', 'logprobs': None}, id='run--1d705d23-f2df-4375-b564-a50b57ce631d-0', usage_metadata={'input_tokens': 61, 'output_tokens': 70, 'total_tokens': 131, 'input_token_details': {'audio': 0, 'cache_read': 0}, 'output_token_details': {'audio': 0, 'reasoning': 0}})"
      ]
     },
     "execution_count": 4,
     "metadata": {},
     "output_type": "execute_result"
    }
   ],
   "source": [
    "from langchain.schema import HumanMessage, AIMessage, SystemMessage\n",
    "\n",
    "messages = [\n",
    "    SystemMessage(\n",
    "        content=\"You are a geography expert. And you only reply in {language}\"\n",
    "    ),\n",
    "    AIMessage(\n",
    "        content=\"안녕, 난 {name}!\"\n",
    "    ),\n",
    "    HumanMessage(\n",
    "        content=\"What is the distance between {country_a} and {country_b}. Also, what is your name?\"\n",
    "    )\n",
    "]\n",
    "\n",
    "chat.predict_messages(messages=messages)"
   ]
  },
  {
   "cell_type": "markdown",
   "id": "9f1cca1d",
   "metadata": {},
   "source": [
    "# Message Template"
   ]
  },
  {
   "cell_type": "code",
   "execution_count": 5,
   "id": "0c91ae08",
   "metadata": {},
   "outputs": [
    {
     "data": {
      "text/plain": [
       "AIMessage(content='The distance between Korea and Japan varies depending on the specific locations being measured. On average, the distance between Seoul, South Korea and Tokyo, Japan is approximately 1,000 kilometers (620 miles) when measured in a straight line. However, the actual distance can be longer when taking into account the specific points of departure and arrival, as well as the mode of transportation being used.', additional_kwargs={'refusal': None}, response_metadata={'token_usage': {'completion_tokens': 77, 'prompt_tokens': 16, 'total_tokens': 93, 'completion_tokens_details': {'accepted_prediction_tokens': 0, 'audio_tokens': 0, 'reasoning_tokens': 0, 'rejected_prediction_tokens': 0}, 'prompt_tokens_details': {'audio_tokens': 0, 'cached_tokens': 0}}, 'model_name': 'gpt-3.5-turbo-0125', 'system_fingerprint': None, 'id': 'chatcmpl-CJeLLpsEFBy405O682SG3DYzzcoND', 'service_tier': 'default', 'finish_reason': 'stop', 'logprobs': None}, id='run--8b47b91d-2515-4f30-bf97-9cc5cc7d03d9-0', usage_metadata={'input_tokens': 16, 'output_tokens': 77, 'total_tokens': 93, 'input_token_details': {'audio': 0, 'cache_read': 0}, 'output_token_details': {'audio': 0, 'reasoning': 0}})"
      ]
     },
     "execution_count": 5,
     "metadata": {},
     "output_type": "execute_result"
    }
   ],
   "source": [
    "from langchain_openai import ChatOpenAI\n",
    "from langchain_core.prompts import PromptTemplate, ChatPromptTemplate\n",
    "\n",
    "chat = ChatOpenAI(\n",
    "    temperature=0.1\n",
    ")\n",
    "\n",
    "template = PromptTemplate.from_template(\n",
    "    \"What is the distance between {country_a} and {country_b}\"\n",
    ")\n",
    "\n",
    "prompt = template.format(country_a=\"korea\", country_b=\"Japan\")\n",
    "\n",
    "chat.invoke(prompt)"
   ]
  },
  {
   "cell_type": "code",
   "execution_count": 6,
   "id": "e1bf1613",
   "metadata": {},
   "outputs": [
    {
     "data": {
      "text/plain": [
       "AIMessage(content='스페인과 이탈리아 사이의 거리는 약 1,400km입니다. 제 이름은 Jaehun Lee입니다.', additional_kwargs={'refusal': None}, response_metadata={'token_usage': {'completion_tokens': 36, 'prompt_tokens': 54, 'total_tokens': 90, 'completion_tokens_details': {'accepted_prediction_tokens': 0, 'audio_tokens': 0, 'reasoning_tokens': 0, 'rejected_prediction_tokens': 0}, 'prompt_tokens_details': {'audio_tokens': 0, 'cached_tokens': 0}}, 'model_name': 'gpt-3.5-turbo-0125', 'system_fingerprint': None, 'id': 'chatcmpl-CJeLMsxKnnbBdlzHysV5j2oGaxuZq', 'service_tier': 'default', 'finish_reason': 'stop', 'logprobs': None}, id='run--b1e8010a-089f-4c20-a5f5-0dffba280b04-0', usage_metadata={'input_tokens': 54, 'output_tokens': 36, 'total_tokens': 90, 'input_token_details': {'audio': 0, 'cache_read': 0}, 'output_token_details': {'audio': 0, 'reasoning': 0}})"
      ]
     },
     "execution_count": 6,
     "metadata": {},
     "output_type": "execute_result"
    }
   ],
   "source": [
    "template = ChatPromptTemplate.from_messages(\n",
    "    [\n",
    "        (\"system\", \"You are a geography expert. And you only reply in {langauge}\"),\n",
    "        (\"ai\", \"Ciao, mi chiamo {name}!\"),\n",
    "        (\n",
    "            \"human\",\n",
    "            \"What is the distance between {country_a} and {country_b}. Also, what is your name?\"\n",
    "        )\n",
    "    ]\n",
    ")\n",
    "\n",
    "prompt = template.format_messages(\n",
    "    langauge=\"Korean\",\n",
    "    name=\"Jaehun Lee\",\n",
    "    country_a=\"Spain\",\n",
    "    country_b=\"Italia\"\n",
    ")\n",
    "\n",
    "chat.invoke(prompt)"
   ]
  },
  {
   "cell_type": "markdown",
   "id": "33851d5a",
   "metadata": {},
   "source": [
    "# Output Parser"
   ]
  },
  {
   "cell_type": "code",
   "execution_count": 7,
   "id": "6591aa44",
   "metadata": {},
   "outputs": [],
   "source": [
    "from langchain_openai import ChatOpenAI\n",
    "from langchain_core.prompts import ChatMessagePromptTemplate\n",
    "\n",
    "chat = ChatOpenAI(\n",
    "    temperature=0.1\n",
    ")"
   ]
  },
  {
   "cell_type": "code",
   "execution_count": 8,
   "id": "2e8b8b44",
   "metadata": {},
   "outputs": [],
   "source": [
    "from langchain.schema import BaseOutputParser\n",
    "\"\"\"\n",
    "a, b, c, d\n",
    "\n",
    "\"\"\"\n",
    "class CommaOutputParser(BaseOutputParser):\n",
    "    def parse(self, text):\n",
    "        items = text.strip().split(\",\")\n",
    "        return list(map(str.strip, items))"
   ]
  },
  {
   "cell_type": "code",
   "execution_count": 9,
   "id": "c16ee080",
   "metadata": {},
   "outputs": [],
   "source": [
    "template = ChatPromptTemplate(\n",
    "    [\n",
    "        (\"system\",\n",
    "         \"You are a list generating machine. Everything you asked will be answerd with a comma separated list of max {max_items} in lowercase. DO NOT reply anything else.\"),\n",
    "         (\"human\", \"{question}\")\n",
    "    ]\n",
    ")"
   ]
  },
  {
   "cell_type": "code",
   "execution_count": 10,
   "id": "db8e412d",
   "metadata": {},
   "outputs": [
    {
     "data": {
      "text/plain": [
       "['pikachu', 'charmander', 'bulbasaur', 'squirtle']"
      ]
     },
     "execution_count": 10,
     "metadata": {},
     "output_type": "execute_result"
    }
   ],
   "source": [
    "chain = template | chat | CommaOutputParser()\n",
    "\n",
    "chain.invoke(\n",
    "    {\n",
    "        \"max_items\" : 5,\n",
    "        \"question\" : \"What atre the pokemons?\"\n",
    "    }\n",
    ")"
   ]
  },
  {
   "cell_type": "markdown",
   "id": "6e97bca1",
   "metadata": {},
   "source": [
    "# Chaining Chains"
   ]
  },
  {
   "cell_type": "code",
   "execution_count": 11,
   "id": "4373f44c",
   "metadata": {},
   "outputs": [],
   "source": [
    "from langchain_openai import ChatOpenAI\n",
    "from langchain_core.prompts import ChatPromptTemplate\n",
    "from langchain.callbacks import StreamingStdOutCallbackHandler\n",
    "\n",
    "chat = ChatOpenAI(\n",
    "    temperature=0.1,\n",
    "    streaming=True,\n",
    "    callbacks=[StreamingStdOutCallbackHandler()]\n",
    ")\n",
    "\n",
    "chef_prompt = ChatPromptTemplate.from_messages(\n",
    "    [\n",
    "        (\n",
    "            \"system\",\n",
    "            \"\",\n",
    "            \n",
    "        ),\n",
    "        (\"human\", \" I want to cook {cuisine} foot. \")\n",
    "    ]\n",
    ")\n",
    "\n",
    "chef_chain = chef_prompt | chat"
   ]
  },
  {
   "cell_type": "code",
   "execution_count": 13,
   "id": "0446514e",
   "metadata": {},
   "outputs": [
    {
     "name": "stdout",
     "output_type": "stream",
     "text": [
      "Great choice! Italian cuisine is delicious. Here's a simple recipe for a classic Italian dish, Spaghetti Carbonara:\n",
      "\n",
      "Ingredients:\n",
      "- 8 oz spaghetti\n",
      "- 4 oz pancetta or bacon, diced\n",
      "- 2 cloves of garlic, minced\n",
      "- 2 large eggs\n",
      "- 1 cup grated Parmesan cheese\n",
      "- Salt and pepper to taste\n",
      "- Fresh parsley, chopped (optional)\n",
      "\n",
      "Instructions:\n",
      "1. Cook the spaghetti according to package instructions until al dente. Reserve 1 cup of pasta water before draining the spaghetti.\n",
      "2. In a large skillet, cook the pancetta or bacon over medium heat until crispy. Add the minced garlic and cook for another minute.\n",
      "3. In a bowl, whisk together the eggs, grated Parmesan cheese, salt, and pepper.\n",
      "4. Add the cooked spaghetti to the skillet with the pancetta and garlic. Toss to combine.\n",
      "5. Remove the skillet from heat and quickly stir in the egg and cheese mixture. The heat from the spaghetti will cook the eggs, creating a creamy sauce. If the sauce is too thick, add some of the reserved pasta water to thin it out.\n",
      "6. Serve the spaghetti carbonara hot, garnished with chopped parsley if desired.\n",
      "\n",
      "Enjoy your homemade Italian meal! Let me know if you need more recipes or assistance.For a vegetarian version of Spaghetti Carbonara, you can replace the pancetta or bacon with a vegetarian alternative such as:\n",
      "\n",
      "- **Vegetarian Bacon**: There are various brands of vegetarian bacon available in stores, usually made from ingredients like tempeh, seitan, or tofu. These can be diced and cooked in a similar way to traditional bacon.\n",
      "\n",
      "- **Mushrooms**: Another option is to use mushrooms, such as shiitake or oyster mushrooms, to add a meaty texture and umami flavor to the dish. Slice the mushrooms and sauté them until they are crispy.\n",
      "\n",
      "- **Smoked Tofu**: Smoked tofu can also be a great substitute for the smoky flavor that pancetta or bacon provides. Cut the smoked tofu into small pieces and cook until crispy.\n",
      "\n",
      "By using these alternatives, you can still enjoy the rich and creamy flavors of Spaghetti Carbonara in a vegetarian-friendly way. Let me know if you need more information or assistance with vegetarian substitutions in other recipes!"
     ]
    },
    {
     "data": {
      "text/plain": [
       "AIMessage(content='For a vegetarian version of Spaghetti Carbonara, you can replace the pancetta or bacon with a vegetarian alternative such as:\\n\\n- **Vegetarian Bacon**: There are various brands of vegetarian bacon available in stores, usually made from ingredients like tempeh, seitan, or tofu. These can be diced and cooked in a similar way to traditional bacon.\\n\\n- **Mushrooms**: Another option is to use mushrooms, such as shiitake or oyster mushrooms, to add a meaty texture and umami flavor to the dish. Slice the mushrooms and sauté them until they are crispy.\\n\\n- **Smoked Tofu**: Smoked tofu can also be a great substitute for the smoky flavor that pancetta or bacon provides. Cut the smoked tofu into small pieces and cook until crispy.\\n\\nBy using these alternatives, you can still enjoy the rich and creamy flavors of Spaghetti Carbonara in a vegetarian-friendly way. Let me know if you need more information or assistance with vegetarian substitutions in other recipes!', additional_kwargs={}, response_metadata={'finish_reason': 'stop', 'model_name': 'gpt-3.5-turbo-0125', 'service_tier': 'default'}, id='run--263af5a0-d894-4376-925e-a75f74bce8d6-0')"
      ]
     },
     "execution_count": 13,
     "metadata": {},
     "output_type": "execute_result"
    }
   ],
   "source": [
    "veg_chef_prompt: ChatPromptTemplate = ChatPromptTemplate.from_messages(\n",
    "    [\n",
    "        (\"system\", \"You are a vegetarian chef specialized on making traditional recipies vegetarian. You find alternative ingredients and explain their preparation. You don't radically modify the recipe. If there is no alternative for a food just say you don't know how to replace it.\"),\n",
    "        (\"human\", \"{recipe}\")\n",
    "    ]\n",
    ")\n",
    "\n",
    "veg_chain = veg_chef_prompt | chat\n",
    "\n",
    "final_chain = chef_chain | veg_chain\n",
    "\n",
    "final_chain.invoke(\n",
    "    {\n",
    "        \"cuisine\": \"Italian\"\n",
    "    }\n",
    ")"
   ]
  }
 ],
 "metadata": {
  "kernelspec": {
   "display_name": "langchain-study",
   "language": "python",
   "name": "python3"
  },
  "language_info": {
   "codemirror_mode": {
    "name": "ipython",
    "version": 3
   },
   "file_extension": ".py",
   "mimetype": "text/x-python",
   "name": "python",
   "nbconvert_exporter": "python",
   "pygments_lexer": "ipython3",
   "version": "3.13.7"
  }
 },
 "nbformat": 4,
 "nbformat_minor": 5
}
