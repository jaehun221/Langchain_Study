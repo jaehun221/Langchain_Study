{
 "cells": [
  {
   "cell_type": "markdown",
   "id": "544056d8",
   "metadata": {},
   "source": [
    "# Chat Model"
   ]
  },
  {
   "cell_type": "code",
   "execution_count": 15,
   "id": "637ed71e",
   "metadata": {},
   "outputs": [],
   "source": [
    "# from dotenv import load_dotenv\n",
    "# import os\n",
    "\n",
    "# load_dotenv()\n",
    "\n",
    "# OPENAI_API_KEY=os.getenv(\"OPENAI_API_KEY\")"
   ]
  },
  {
   "cell_type": "code",
   "execution_count": 16,
   "id": "66b1b3f4",
   "metadata": {},
   "outputs": [
    {
     "name": "stdout",
     "output_type": "stream",
     "text": [
      "content='In our solar system, there are 8 planets: Mercury, Venus, Earth, Mars, Jupiter, Saturn, Uranus, and Neptune.' additional_kwargs={'refusal': None} response_metadata={'token_usage': {'completion_tokens': 29, 'prompt_tokens': 13, 'total_tokens': 42, 'completion_tokens_details': {'accepted_prediction_tokens': 0, 'audio_tokens': 0, 'reasoning_tokens': 0, 'rejected_prediction_tokens': 0}, 'prompt_tokens_details': {'audio_tokens': 0, 'cached_tokens': 0}}, 'model_name': 'gpt-3.5-turbo-0125', 'system_fingerprint': None, 'id': 'chatcmpl-CKKNqMew8q3ovOS4y3xiWkVKC1aUw', 'service_tier': 'default', 'finish_reason': 'stop', 'logprobs': None} id='run--5f4f51e0-2444-405b-bad2-35109a87ed1f-0' usage_metadata={'input_tokens': 13, 'output_tokens': 29, 'total_tokens': 42, 'input_token_details': {'audio': 0, 'cache_read': 0}, 'output_token_details': {'audio': 0, 'reasoning': 0}}\n"
     ]
    }
   ],
   "source": [
    "from langchain_openai import ChatOpenAI, OpenAI\n",
    "\n",
    "chat = ChatOpenAI(\n",
    "    model=\"gpt-3.5-turbo\" # 사용할 모델 명시\n",
    ")\n",
    "\n",
    "print(chat.invoke(\"How many planets are there?\"))"
   ]
  },
  {
   "cell_type": "markdown",
   "id": "e87c1e2b",
   "metadata": {},
   "source": [
    "# Message Schema"
   ]
  },
  {
   "cell_type": "code",
   "execution_count": 17,
   "id": "d312b9fc",
   "metadata": {},
   "outputs": [],
   "source": [
    "from langchain_openai import ChatOpenAI\n",
    "\n",
    "chat = ChatOpenAI(\n",
    "    temperature=0.1\n",
    ")"
   ]
  },
  {
   "cell_type": "code",
   "execution_count": 18,
   "id": "bd5db146",
   "metadata": {},
   "outputs": [
    {
     "data": {
      "text/plain": [
       "AIMessage(content='그것은 좀 복잡한 질문이에요. {country_a}와 {country_b} 사이의 거리는 다양한 요인에 따라 달라질 수 있어요. 저는 지리 전문가이기 때문에 두 국가 사이의 거리를 정확히 계산할 수 있어요. 제 이름은 {name}이에요. 어떤 도움이 필요하세요?', additional_kwargs={'refusal': None}, response_metadata={'token_usage': {'completion_tokens': 118, 'prompt_tokens': 61, 'total_tokens': 179, 'completion_tokens_details': {'accepted_prediction_tokens': 0, 'audio_tokens': 0, 'reasoning_tokens': 0, 'rejected_prediction_tokens': 0}, 'prompt_tokens_details': {'audio_tokens': 0, 'cached_tokens': 0}}, 'model_name': 'gpt-3.5-turbo-0125', 'system_fingerprint': None, 'id': 'chatcmpl-CKKNsV9g5OdTNfsOzuJn95NBnnxRL', 'service_tier': 'default', 'finish_reason': 'stop', 'logprobs': None}, id='run--e40615be-4c7e-4f10-9302-7d6536236837-0', usage_metadata={'input_tokens': 61, 'output_tokens': 118, 'total_tokens': 179, 'input_token_details': {'audio': 0, 'cache_read': 0}, 'output_token_details': {'audio': 0, 'reasoning': 0}})"
      ]
     },
     "execution_count": 18,
     "metadata": {},
     "output_type": "execute_result"
    }
   ],
   "source": [
    "from langchain.schema import HumanMessage, AIMessage, SystemMessage\n",
    "\n",
    "messages = [\n",
    "    SystemMessage(\n",
    "        content=\"You are a geography expert. And you only reply in {language}\"\n",
    "    ),\n",
    "    AIMessage(\n",
    "        content=\"안녕, 난 {name}!\"\n",
    "    ),\n",
    "    HumanMessage(\n",
    "        content=\"What is the distance between {country_a} and {country_b}. Also, what is your name?\"\n",
    "    )\n",
    "]\n",
    "\n",
    "chat.predict_messages(messages=messages)"
   ]
  },
  {
   "cell_type": "markdown",
   "id": "9f1cca1d",
   "metadata": {},
   "source": [
    "# Message Template"
   ]
  },
  {
   "cell_type": "code",
   "execution_count": 19,
   "id": "0c91ae08",
   "metadata": {},
   "outputs": [
    {
     "data": {
      "text/plain": [
       "AIMessage(content='The distance between Korea and Japan varies depending on the specific locations being measured. On average, the distance between Seoul, South Korea and Tokyo, Japan is approximately 1,000 kilometers (620 miles) by air.', additional_kwargs={'refusal': None}, response_metadata={'token_usage': {'completion_tokens': 43, 'prompt_tokens': 16, 'total_tokens': 59, 'completion_tokens_details': {'accepted_prediction_tokens': 0, 'audio_tokens': 0, 'reasoning_tokens': 0, 'rejected_prediction_tokens': 0}, 'prompt_tokens_details': {'audio_tokens': 0, 'cached_tokens': 0}}, 'model_name': 'gpt-3.5-turbo-0125', 'system_fingerprint': None, 'id': 'chatcmpl-CKKNtNKRh75SDywEjpenIckVgS72V', 'service_tier': 'default', 'finish_reason': 'stop', 'logprobs': None}, id='run--68456e88-7de6-41dd-ad8d-52fd36899aae-0', usage_metadata={'input_tokens': 16, 'output_tokens': 43, 'total_tokens': 59, 'input_token_details': {'audio': 0, 'cache_read': 0}, 'output_token_details': {'audio': 0, 'reasoning': 0}})"
      ]
     },
     "execution_count": 19,
     "metadata": {},
     "output_type": "execute_result"
    }
   ],
   "source": [
    "from langchain_openai import ChatOpenAI\n",
    "from langchain_core.prompts import PromptTemplate, ChatPromptTemplate\n",
    "\n",
    "chat = ChatOpenAI(\n",
    "    temperature=0.1\n",
    ")\n",
    "\n",
    "template = PromptTemplate.from_template(\n",
    "    \"What is the distance between {country_a} and {country_b}\"\n",
    ")\n",
    "\n",
    "prompt = template.format(country_a=\"korea\", country_b=\"Japan\")\n",
    "\n",
    "chat.invoke(prompt)"
   ]
  },
  {
   "cell_type": "code",
   "execution_count": 20,
   "id": "e1bf1613",
   "metadata": {},
   "outputs": [
    {
     "data": {
      "text/plain": [
       "AIMessage(content='스페인과 이탈리아 사이의 거리는 약 1,400km입니다. 제 이름은 Jaehun Lee입니다. 어떻게 도와드릴까요?', additional_kwargs={'refusal': None}, response_metadata={'token_usage': {'completion_tokens': 52, 'prompt_tokens': 54, 'total_tokens': 106, 'completion_tokens_details': {'accepted_prediction_tokens': 0, 'audio_tokens': 0, 'reasoning_tokens': 0, 'rejected_prediction_tokens': 0}, 'prompt_tokens_details': {'audio_tokens': 0, 'cached_tokens': 0}}, 'model_name': 'gpt-3.5-turbo-0125', 'system_fingerprint': None, 'id': 'chatcmpl-CKKNvvdnJSbzBtkoYKzJrpvl1obBi', 'service_tier': 'default', 'finish_reason': 'stop', 'logprobs': None}, id='run--df20e86f-401c-4ab2-b848-7427eb8f0852-0', usage_metadata={'input_tokens': 54, 'output_tokens': 52, 'total_tokens': 106, 'input_token_details': {'audio': 0, 'cache_read': 0}, 'output_token_details': {'audio': 0, 'reasoning': 0}})"
      ]
     },
     "execution_count": 20,
     "metadata": {},
     "output_type": "execute_result"
    }
   ],
   "source": [
    "template = ChatPromptTemplate.from_messages(\n",
    "    [\n",
    "        (\"system\", \"You are a geography expert. And you only reply in {langauge}\"),\n",
    "        (\"ai\", \"Ciao, mi chiamo {name}!\"),\n",
    "        (\n",
    "            \"human\",\n",
    "            \"What is the distance between {country_a} and {country_b}. Also, what is your name?\"\n",
    "        )\n",
    "    ]\n",
    ")\n",
    "\n",
    "prompt = template.format_messages(\n",
    "    langauge=\"Korean\",\n",
    "    name=\"Jaehun Lee\",\n",
    "    country_a=\"Spain\",\n",
    "    country_b=\"Italia\"\n",
    ")\n",
    "\n",
    "chat.invoke(prompt)"
   ]
  },
  {
   "cell_type": "markdown",
   "id": "33851d5a",
   "metadata": {},
   "source": [
    "# Output Parser"
   ]
  },
  {
   "cell_type": "code",
   "execution_count": 21,
   "id": "6591aa44",
   "metadata": {},
   "outputs": [],
   "source": [
    "from langchain_openai import ChatOpenAI\n",
    "from langchain_core.prompts import ChatMessagePromptTemplate\n",
    "\n",
    "chat = ChatOpenAI(\n",
    "    temperature=0.1\n",
    ")"
   ]
  },
  {
   "cell_type": "code",
   "execution_count": 22,
   "id": "2e8b8b44",
   "metadata": {},
   "outputs": [],
   "source": [
    "from langchain.schema import BaseOutputParser\n",
    "\"\"\"\n",
    "a, b, c, d\n",
    "\n",
    "\"\"\"\n",
    "class CommaOutputParser(BaseOutputParser):\n",
    "    def parse(self, text):\n",
    "        items = text.strip().split(\",\")\n",
    "        return list(map(str.strip, items))"
   ]
  },
  {
   "cell_type": "code",
   "execution_count": null,
   "id": "c16ee080",
   "metadata": {},
   "outputs": [],
   "source": [
    "template = ChatPromptTemplate(\n",
    "    [\n",
    "        (\"system\",\n",
    "         \"You are a list generating machine. Everything you asked will be answerd with a comma separated list of max {max_items} in lowercase. DO NOT reply anything else.\"),\n",
    "         (\"human\", \"{question}\")\n",
    "    ]   \n",
    ")"
   ]
  },
  {
   "cell_type": "code",
   "execution_count": 24,
   "id": "db8e412d",
   "metadata": {},
   "outputs": [
    {
     "data": {
      "text/plain": [
       "['pikachu', 'charmander', 'bulbasaur', 'squirtle', 'jigglypuff']"
      ]
     },
     "execution_count": 24,
     "metadata": {},
     "output_type": "execute_result"
    }
   ],
   "source": [
    "chain = template | chat | CommaOutputParser()\n",
    "\n",
    "chain.invoke(\n",
    "    {\n",
    "        \"max_items\" : 5,\n",
    "        \"question\" : \"What atre the pokemons?\"\n",
    "    }\n",
    ")"
   ]
  },
  {
   "cell_type": "markdown",
   "id": "6e97bca1",
   "metadata": {},
   "source": [
    "# Chaining Chains"
   ]
  },
  {
   "cell_type": "code",
   "execution_count": null,
   "id": "4373f44c",
   "metadata": {},
   "outputs": [],
   "source": [
    "from langchain_openai import ChatOpenAI\n",
    "from langchain_core.prompts import ChatPromptTemplate\n",
    "from langchain.callbacks import StreamingStdOutCallbackHandler\n",
    "\n",
    "chat = ChatOpenAI(\n",
    "    temperature=0.1,\n",
    "    streaming=True,\n",
    "    callbacks=[StreamingStdOutCallbackHandler()]\n",
    ")\n",
    "\n",
    "chef_prompt = ChatPromptTemplate.from_messages(\n",
    "    [\n",
    "        (\n",
    "            \"system\",\n",
    "            \"\",\n",
    "            \n",
    "        ),\n",
    "        (\"human\", \" I want to cook {cuisine} food. \")\n",
    "    ]\n",
    ")\n",
    "\n",
    "chef_chain = chef_prompt | chat"
   ]
  },
  {
   "cell_type": "code",
   "execution_count": 27,
   "id": "0446514e",
   "metadata": {},
   "outputs": [
    {
     "name": "stdout",
     "output_type": "stream",
     "text": [
      "Great choice! Italian cuisine is delicious. Here's a simple recipe for a classic Italian dish, Spaghetti Carbonara:\n",
      "\n",
      "Ingredients:\n",
      "- 8 oz spaghetti\n",
      "- 4 oz pancetta or bacon, diced\n",
      "- 2 cloves garlic, minced\n",
      "- 2 large eggs\n",
      "- 1 cup grated Pecorino Romano cheese\n",
      "- Salt and pepper to taste\n",
      "- Fresh parsley, chopped (for garnish)\n",
      "\n",
      "Instructions:\n",
      "1. Cook the spaghetti according to package instructions until al dente. Reserve 1 cup of pasta water before draining the spaghetti.\n",
      "2. In a large skillet, cook the pancetta over medium heat until crispy. Add the minced garlic and cook for another minute.\n",
      "3. In a bowl, whisk together the eggs, grated cheese, salt, and pepper.\n",
      "4. Add the cooked spaghetti to the skillet with the pancetta and garlic. Toss to combine.\n",
      "5. Remove the skillet from heat and quickly stir in the egg and cheese mixture. The heat from the pasta will cook the eggs, creating a creamy sauce. If the sauce is too thick, add some of the reserved pasta water to loosen it up.\n",
      "6. Serve the spaghetti carbonara hot, garnished with chopped parsley and extra grated cheese.\n",
      "\n",
      "Enjoy your homemade Italian meal! Let me know if you need more recipes or assistance.For a vegetarian version of Spaghetti Carbonara, you can replace the pancetta or bacon with a vegetarian alternative such as vegetarian bacon or tempeh bacon. These products are usually made from ingredients like soy protein, wheat gluten, or tempeh, and they can provide a similar smoky flavor and texture to the dish.\n",
      "\n",
      "To prepare vegetarian bacon or tempeh bacon for this recipe, you can follow these steps:\n",
      "\n",
      "1. **Vegetarian Bacon**: If you're using store-bought vegetarian bacon, simply follow the package instructions to cook it until crispy. Then proceed with the recipe as you would with traditional pancetta or bacon.\n",
      "\n",
      "2. **Tempeh Bacon**: If you prefer to use tempeh as a bacon substitute, you can make your own tempeh bacon by marinating thinly sliced tempeh in a mixture of soy sauce, liquid smoke, maple syrup, garlic powder, and smoked paprika. Let it marinate for at least 30 minutes or overnight for more flavor. Then, pan-fry or bake the tempeh slices until they are crispy and browned.\n",
      "\n",
      "By using these vegetarian alternatives, you can enjoy a delicious vegetarian version of Spaghetti Carbonara without compromising on taste and texture. Enjoy your meat-free Italian meal!"
     ]
    },
    {
     "data": {
      "text/plain": [
       "AIMessage(content=\"For a vegetarian version of Spaghetti Carbonara, you can replace the pancetta or bacon with a vegetarian alternative such as vegetarian bacon or tempeh bacon. These products are usually made from ingredients like soy protein, wheat gluten, or tempeh, and they can provide a similar smoky flavor and texture to the dish.\\n\\nTo prepare vegetarian bacon or tempeh bacon for this recipe, you can follow these steps:\\n\\n1. **Vegetarian Bacon**: If you're using store-bought vegetarian bacon, simply follow the package instructions to cook it until crispy. Then proceed with the recipe as you would with traditional pancetta or bacon.\\n\\n2. **Tempeh Bacon**: If you prefer to use tempeh as a bacon substitute, you can make your own tempeh bacon by marinating thinly sliced tempeh in a mixture of soy sauce, liquid smoke, maple syrup, garlic powder, and smoked paprika. Let it marinate for at least 30 minutes or overnight for more flavor. Then, pan-fry or bake the tempeh slices until they are crispy and browned.\\n\\nBy using these vegetarian alternatives, you can enjoy a delicious vegetarian version of Spaghetti Carbonara without compromising on taste and texture. Enjoy your meat-free Italian meal!\", additional_kwargs={}, response_metadata={'finish_reason': 'stop', 'model_name': 'gpt-3.5-turbo-0125', 'service_tier': 'default'}, id='run--9dabfac3-970e-41b2-abc6-ecdab7232668-0')"
      ]
     },
     "execution_count": 27,
     "metadata": {},
     "output_type": "execute_result"
    }
   ],
   "source": [
    "veg_chef_prompt = ChatPromptTemplate.from_messages(\n",
    "    [\n",
    "        (\"system\", \"You are a vegetarian chef specialized on making traditional recipies vegetarian. You find alternative ingredients and explain their preparation. You don't radically modify the recipe. If there is no alternative for a food just say you don't know how to replace it.\"),\n",
    "        (\"human\", \"{recipe}\")\n",
    "    ]\n",
    ")\n",
    "\n",
    "veg_chain = veg_chef_prompt | chat\n",
    "\n",
    "final_chain = chef_chain | veg_chain\n",
    "\n",
    "final_chain.invoke(\n",
    "    {\n",
    "        \"cuisine\": \"Italian\"\n",
    "    }\n",
    ")"
   ]
  }
 ],
 "metadata": {
  "kernelspec": {
   "display_name": "langchain-study",
   "language": "python",
   "name": "python3"
  },
  "language_info": {
   "codemirror_mode": {
    "name": "ipython",
    "version": 3
   },
   "file_extension": ".py",
   "mimetype": "text/x-python",
   "name": "python",
   "nbconvert_exporter": "python",
   "pygments_lexer": "ipython3",
   "version": "3.13.7"
  }
 },
 "nbformat": 4,
 "nbformat_minor": 5
}
